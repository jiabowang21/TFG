{
 "cells": [
  {
   "cell_type": "markdown",
   "id": "0ec692eb",
   "metadata": {},
   "source": [
    "# Generar N frames sintéticos + \"labels\""
   ]
  },
  {
   "cell_type": "markdown",
   "id": "f1bf0319",
   "metadata": {},
   "source": [
    "### Imports"
   ]
  },
  {
   "cell_type": "code",
   "execution_count": 6,
   "id": "937952da",
   "metadata": {},
   "outputs": [],
   "source": [
    "import os\n",
    "from PIL import Image"
   ]
  },
  {
   "cell_type": "markdown",
   "id": "c43d2bf5",
   "metadata": {},
   "source": [
    "### Paso 1\n",
    "Procesar los N (14671) frames sintéticos de Blender con un modelo de pose detection ya entrenado "
   ]
  },
  {
   "cell_type": "code",
   "execution_count": 6,
   "id": "abc43d94",
   "metadata": {},
   "outputs": [
    {
     "name": "stdout",
     "output_type": "stream",
     "text": [
      "Loads checkpoint by http backend from path: https://download.openmmlab.com/mmdetection/v2.0/faster_rcnn/faster_rcnn_r50_fpn_1x_coco/faster_rcnn_r50_fpn_1x_coco_20200130-047c8118.pth\n",
      "Loads checkpoint by http backend from path: https://download.openmmlab.com/mmpose/v1/body_2d_keypoint/topdown_heatmap/coco/td-hm_hrnet-w32_8xb64-210e_coco-256x192-81c58e40_20220909.pth\n",
      "The model and loaded state dict do not match exactly\n",
      "\n",
      "unexpected key in source state_dict: data_preprocessor.mean, data_preprocessor.std\n",
      "\n",
      "[>>>>>>>>>>>>>>>>>>>>>>>>>>>>>>>>>>>>>>>>>>>>>>>>>>] 14660/14660, 2.0 task/s, elapsed: 7379s, ETA:     0s"
     ]
    },
    {
     "name": "stderr",
     "output_type": "stream",
     "text": [
      "C:\\Users\\crv\\miniconda3\\envs\\openmmlab\\lib\\site-packages\\json_tricks\\encoders.py:394: UserWarning: json-tricks: numpy scalar serialization is experimental and may work differently in future versions\n",
      "  warnings.warn('json-tricks: numpy scalar serialization is experimental and may work differently in future versions')\n"
     ]
    },
    {
     "name": "stdout",
     "output_type": "stream",
     "text": [
      "predictions have been saved at outputs/Blender//results_1630-16300.json\n"
     ]
    }
   ],
   "source": [
    "%run demo/topdown_demo_with_mmdet \\\n",
    "    demo/mmdetection_cfg/faster_rcnn_r50_fpn_coco.py \\\n",
    "    https://download.openmmlab.com/mmdetection/v2.0/faster_rcnn/faster_rcnn_r50_fpn_1x_coco/faster_rcnn_r50_fpn_1x_coco_20200130-047c8118.pth \\\n",
    "    configs/body_2d_keypoint/topdown_heatmap/coco/td-hm_hrnet-w32_8xb64-210e_coco-256x192.py \\\n",
    "    https://download.openmmlab.com/mmpose/v1/body_2d_keypoint/topdown_heatmap/coco/td-hm_hrnet-w32_8xb64-210e_coco-256x192-81c58e40_20220909.pth \\\n",
    "    --input inputs/1630-16300.mp4 --save-predictions \\\n",
    "    --output-root outputs/Blender/ "
   ]
  },
  {
   "cell_type": "markdown",
   "id": "0e821f39",
   "metadata": {},
   "source": [
    "### Paso 2\n",
    "Entrenar un modelo de aprendizaje supervisado para predecir la posición (x, y) del \"heap\" del jugador proyectado en la pista a partir de los keypoints de la jugador."
   ]
  },
  {
   "cell_type": "code",
   "execution_count": null,
   "id": "78a3241d",
   "metadata": {},
   "outputs": [],
   "source": []
  }
 ],
 "metadata": {
  "kernelspec": {
   "display_name": "Python 3 (ipykernel)",
   "language": "python",
   "name": "python3"
  },
  "language_info": {
   "codemirror_mode": {
    "name": "ipython",
    "version": 3
   },
   "file_extension": ".py",
   "mimetype": "text/x-python",
   "name": "python",
   "nbconvert_exporter": "python",
   "pygments_lexer": "ipython3",
   "version": "3.8.16"
  }
 },
 "nbformat": 4,
 "nbformat_minor": 5
}
