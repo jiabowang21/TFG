{
 "cells": [
  {
   "cell_type": "markdown",
   "id": "0f1b5d95",
   "metadata": {},
   "source": [
    "# DEMO Detection + pose estimation "
   ]
  },
  {
   "cell_type": "markdown",
   "id": "759eb780",
   "metadata": {},
   "source": [
    "Detección de la pose\n",
    " - Proporcionar la ubicación de la imagen de entrada\n",
    " - Proporcionar la ubicación en donde se quiere guardar la imagen\n",
    " - Definir si se quiere guardar los keypoints\n",
    " - Definir si se quiere dibujar los cuadros delimitadores"
   ]
  },
  {
   "cell_type": "code",
   "execution_count": 5,
   "id": "7ff531b1",
   "metadata": {},
   "outputs": [
    {
     "name": "stderr",
     "output_type": "stream",
     "text": [
      "/Users/jiabowang/miniconda3/envs/openmmlab/lib/python3.10/site-packages/scipy/__init__.py:146: UserWarning: A NumPy version >=1.16.5 and <1.23.0 is required for this version of SciPy (detected version 1.24.3\n",
      "  warnings.warn(f\"A NumPy version >={np_minversion} and <{np_maxversion}\"\n",
      "/Users/jiabowang/miniconda3/envs/openmmlab/lib/python3.10/site-packages/mmpose/datasets/datasets/utils.py:102: UserWarning: The metainfo config file \"configs/_base_/datasets/coco.py\" does not exist. A matched config file \"/Users/jiabowang/miniconda3/envs/openmmlab/lib/python3.10/site-packages/mmpose/.mim/configs/_base_/datasets/coco.py\" will be used instead.\n",
      "  warnings.warn(\n"
     ]
    },
    {
     "name": "stdout",
     "output_type": "stream",
     "text": [
      "Loads checkpoint by local backend from path: ./data/faster_rcnn_r50_fpn_1x_coco_20200130-047c8118.pth\n",
      "Loads checkpoint by local backend from path: ./data/hrnet_w32_coco_256x192-c78dce93_20200708.pth\n",
      "06/16 23:29:45 - mmengine - \u001b[5m\u001b[4m\u001b[33mWARNING\u001b[0m - `Visualizer` backend is not initialized because save_dir is None.\n"
     ]
    },
    {
     "name": "stderr",
     "output_type": "stream",
     "text": [
      "/Users/jiabowang/miniconda3/envs/openmmlab/lib/python3.10/site-packages/json_tricks/encoders.py:394: UserWarning: json-tricks: numpy scalar serialization is experimental and may work differently in future versions\n",
      "  warnings.warn('json-tricks: numpy scalar serialization is experimental and may work differently in future versions')\n"
     ]
    },
    {
     "name": "stdout",
     "output_type": "stream",
     "text": [
      "predictions have been saved at /Users/jiabowang/Desktop/TFG/outputs//results_frame121.json\n"
     ]
    }
   ],
   "source": [
    "from utils.inferenceMMpose import inferenceMMpose\n",
    "from PIL import Image\n",
    "\n",
    "\n",
    "input_path = \"/Users/jiabowang/Desktop/TFG/outputs/motion/frame121.png\"\n",
    "output_path = '/Users/jiabowang/Desktop/TFG/outputs/'\n",
    "keypoints = True\n",
    "bbox = False\n",
    "\n",
    "inferenceMMpose(input_path, output_path, keypoints, bbox) "
   ]
  }
 ],
 "metadata": {
  "kernelspec": {
   "display_name": "Python 3 (ipykernel)",
   "language": "python",
   "name": "python3"
  },
  "language_info": {
   "codemirror_mode": {
    "name": "ipython",
    "version": 3
   },
   "file_extension": ".py",
   "mimetype": "text/x-python",
   "name": "python",
   "nbconvert_exporter": "python",
   "pygments_lexer": "ipython3",
   "version": "3.10.10"
  }
 },
 "nbformat": 4,
 "nbformat_minor": 5
}
